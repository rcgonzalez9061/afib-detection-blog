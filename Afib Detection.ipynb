{
 "cells": [
  {
   "cell_type": "code",
   "execution_count": 1,
   "id": "0d9219a8-9ee7-4c6a-8e7c-6e555ba53d00",
   "metadata": {},
   "outputs": [],
   "source": [
    "import os\n",
    "project_root = '/home/roobz/Jupyter/afib-detector/src'\n",
    "os.chdir(project_root)\n",
    "\n",
    "import eda\n",
    "from evaluate import get_performance_tables\n",
    "from IPython.display import display_html, Image, display, HTML\n",
    "\n",
    "%load_ext autoreload\n",
    "%autoreload 2"
   ]
  },
  {
   "cell_type": "code",
   "execution_count": 2,
   "id": "88d5e945-5d32-44da-bbed-b28a25ec07ba",
   "metadata": {},
   "outputs": [],
   "source": [
    "import warnings\n",
    "warnings.filterwarnings(\"ignore\")"
   ]
  },
  {
   "cell_type": "markdown",
   "id": "a1810449-99c4-4b94-80d2-c4db6dbb02e0",
   "metadata": {
    "tags": []
   },
   "source": [
    "# Detecting Atrial Fibrilation with 1-D CNNs"
   ]
  },
  {
   "cell_type": "markdown",
   "id": "78b4ed03-46ba-403f-924a-82b1e657e2ef",
   "metadata": {},
   "source": [
    "Atrial Fibrilation (AFib) is a condition where the heart’s atria beat irratically, out of sync with the rest of the heart. This results in the reduced effectiveness of the heart and it is associated with more severe heart conditions like stroke or heart failure ([heart.org](https://www.heart.org/en/health-topics/atrial-fibrillation/what-is-atrial-fibrillation-afib-or-af)). Due to this, there has been much effort directed toward developing better ways for detecting AFib early. In the new age of wearable technology like the Apple Watch, passive machine learning-based methods for detection have become common place. In this project, I wanted to explore how electrocardiograms (ECGs) inform us of episodes of AFIB and determine if 1-D convolutional neural networks are adequate for detecting AFib."
   ]
  },
  {
   "cell_type": "markdown",
   "id": "443ff7c0-a01c-4140-ae4e-bb13dfdf1a87",
   "metadata": {},
   "source": [
    "### Some Quick Background...\n",
    "I recently bought an Apple Watch. It was on sale for a pretty good deal and I've been wanting one for quite a while. This led to me discovering its ECG AFib detection capabilities, so I set out to try recreate a similar system with this project. While it's not going to be as thorough as [Apple's research](https://www.apple.com/healthcare/docs/site/Apple_Watch_Arrhythmia_Detection.pdf), I went with what was realistically capable with my resources, time, and prior knowledge. The biomedical domain isn't really my specialty and I have no prior experience working with ECGs. However, this project has served as some decent practice and has been a fruitful exploration into the biomedical domain."
   ]
  },
  {
   "cell_type": "markdown",
   "id": "a09313da-9771-44e1-aa52-0d744b4dce28",
   "metadata": {},
   "source": [
    "---\n",
    "## Data\n",
    "The first thing I had to do was to source a good ECG dataset. Luckily, I quickly found the [MIT-BIH Atrial Fibrillation Database](https://physionet.org/content/afdb/1.0.0/). It contains annotated ECG data from 23 unique patients each with two simultaneous 10-hour ECG signals. The annotations denote when an episode of a rythym begins for a record of which there are 4 different labels available: Atrial Fibrilation (AFIB), Atrial Flutter (AFL), AV Junction (J), and \"all other rythyms\" (N). The dataset mostly captures AFIB and N rythyms while AFL and J only make up less than 1% of the data."
   ]
  },
  {
   "cell_type": "code",
   "execution_count": 5,
   "id": "2f1abb3b-effe-43f7-b7e3-f0d871a34879",
   "metadata": {},
   "outputs": [],
   "source": [
    "data_overview = (\n",
    "    eda.generate_grouped_label_table()\n",
    ")"
   ]
  },
  {
   "cell_type": "code",
   "execution_count": 6,
   "id": "0d5ce7a8-5269-4cc1-af14-3c75af321b5c",
   "metadata": {},
   "outputs": [
    {
     "data": {
      "text/html": [
       "<style>\n",
       ".jp-Notebook {\n",
       "    max-width: 800px !important;\n",
       "    margin: auto !important;\n",
       "}\n",
       "\n",
       "#data-overview {\n",
       "    min-width: max-content;\n",
       "    display: flex;\n",
       "    justify-content: center;\n",
       "}\n",
       "</style>"
      ],
      "text/plain": [
       "<IPython.core.display.HTML object>"
      ]
     },
     "metadata": {},
     "output_type": "display_data"
    },
    {
     "data": {
      "text/html": [
       "<div id='data-overview'><style  type=\"text/css\" >\n",
       "</style><table id=\"T_b0703_\" ><thead>    <tr>        <th class=\"blank level0\" ></th>        <th class=\"col_heading level0 col0\" >Total Duration<br>(Minutes)</th>        <th class=\"col_heading level0 col1\" >Total<br>Duration (%)</th>        <th class=\"col_heading level0 col2\" >Avg Duration<br>(Samples)</th>        <th class=\"col_heading level0 col3\" >Min<br>Duration</th>        <th class=\"col_heading level0 col4\" >Unique<br>Episodes</th>        <th class=\"col_heading level0 col5\" >Episodes<br>(>30s)</th>    </tr>    <tr>        <th class=\"index_name level0\" >Label</th>        <th class=\"blank\" ></th>        <th class=\"blank\" ></th>        <th class=\"blank\" ></th>        <th class=\"blank\" ></th>        <th class=\"blank\" ></th>        <th class=\"blank\" ></th>    </tr></thead><tbody>\n",
       "                <tr>\n",
       "                        <th id=\"T_b0703_level0_row0\" class=\"row_heading level0 row0\" >AFIB</th>\n",
       "                        <td id=\"T_b0703_row0_col0\" class=\"data row0 col0\" >5,603.85</td>\n",
       "                        <td id=\"T_b0703_row0_col1\" class=\"data row0 col1\" >39.87%</td>\n",
       "                        <td id=\"T_b0703_row0_col2\" class=\"data row0 col2\" >288,858</td>\n",
       "                        <td id=\"T_b0703_row0_col3\" class=\"data row0 col3\" >420</td>\n",
       "                        <td id=\"T_b0703_row0_col4\" class=\"data row0 col4\" >291</td>\n",
       "                        <td id=\"T_b0703_row0_col5\" class=\"data row0 col5\" >226</td>\n",
       "            </tr>\n",
       "            <tr>\n",
       "                        <th id=\"T_b0703_level0_row1\" class=\"row_heading level0 row1\" >AFL</th>\n",
       "                        <td id=\"T_b0703_row1_col0\" class=\"data row1 col0\" >97.95</td>\n",
       "                        <td id=\"T_b0703_row1_col1\" class=\"data row1 col1\" >0.70%</td>\n",
       "                        <td id=\"T_b0703_row1_col2\" class=\"data row1 col2\" >104,947</td>\n",
       "                        <td id=\"T_b0703_row1_col3\" class=\"data row1 col3\" >882</td>\n",
       "                        <td id=\"T_b0703_row1_col4\" class=\"data row1 col4\" >14</td>\n",
       "                        <td id=\"T_b0703_row1_col5\" class=\"data row1 col5\" >7</td>\n",
       "            </tr>\n",
       "            <tr>\n",
       "                        <th id=\"T_b0703_level0_row2\" class=\"row_heading level0 row2\" >J</th>\n",
       "                        <td id=\"T_b0703_row2_col0\" class=\"data row2 col0\" >5.52</td>\n",
       "                        <td id=\"T_b0703_row2_col1\" class=\"data row2 col1\" >0.04%</td>\n",
       "                        <td id=\"T_b0703_row2_col2\" class=\"data row2 col2\" >6,894</td>\n",
       "                        <td id=\"T_b0703_row2_col3\" class=\"data row2 col3\" >380</td>\n",
       "                        <td id=\"T_b0703_row2_col4\" class=\"data row2 col4\" >12</td>\n",
       "                        <td id=\"T_b0703_row2_col5\" class=\"data row2 col5\" >3</td>\n",
       "            </tr>\n",
       "            <tr>\n",
       "                        <th id=\"T_b0703_level0_row3\" class=\"row_heading level0 row3\" >N</th>\n",
       "                        <td id=\"T_b0703_row3_col0\" class=\"data row3 col0\" >8,349.30</td>\n",
       "                        <td id=\"T_b0703_row3_col1\" class=\"data row3 col1\" >59.40%</td>\n",
       "                        <td id=\"T_b0703_row3_col2\" class=\"data row3 col2\" >434,859</td>\n",
       "                        <td id=\"T_b0703_row3_col3\" class=\"data row3 col3\" >1062</td>\n",
       "                        <td id=\"T_b0703_row3_col4\" class=\"data row3 col4\" >288</td>\n",
       "                        <td id=\"T_b0703_row3_col5\" class=\"data row3 col5\" >263</td>\n",
       "            </tr>\n",
       "    </tbody></table></div>"
      ]
     },
     "metadata": {},
     "output_type": "display_data"
    }
   ],
   "source": [
    "display(HTML(\"\"\"<style>\n",
    ".jp-Notebook {\n",
    "    max-width: 800px !important;\n",
    "    margin: auto !important;\n",
    "}\n",
    "\n",
    "#data-overview {\n",
    "    min-width: max-content;\n",
    "    display: flex;\n",
    "    justify-content: center;\n",
    "}\n",
    "</style>\"\"\"))\n",
    "\n",
    "data_overview_html = f\"<div id='data-overview'>{data_overview._repr_html_()}</div>\"\n",
    "display_html(data_overview_html, raw=True)"
   ]
  },
  {
   "cell_type": "markdown",
   "id": "8b7e4c15-81b9-4218-9425-61c2458d99ac",
   "metadata": {},
   "source": [
    "Again, I am going into this project with little to no background knowledge on how ECGs work and what characteristics each rhythm tends to display. So using the data, I'm going to hypothesize the characteristics of each rhythm then compare my hypotheses with existing information."
   ]
  },
  {
   "cell_type": "markdown",
   "id": "910a1acf-9c58-44f6-bdf6-02f689355ac1",
   "metadata": {},
   "source": [
    "### Time Domain Analysis\n",
    "\n",
    "First, I've curated a small random sample that has decent variation which I have plotted below for a quick visual comparison. While I don't really notice any obvious differences between the different rhythms, I did notice that they seem to follow the same pattern of having some sort of lead-up activity, a giant spike in activity and then some follow-up activity. This is most prominent in record 08455."
   ]
  },
  {
   "cell_type": "markdown",
   "id": "b7b01e11-255e-42a5-9a3a-850de6aa9894",
   "metadata": {},
   "source": [
    "<img src=\"assets/images/1x4.png\" style=\"height: 500px; min-width: min-content;\">"
   ]
  },
  {
   "cell_type": "markdown",
   "id": "815e4673-f2f0-4ded-b19e-9e898a07ca13",
   "metadata": {},
   "source": [
    "I later learned that these were the P, R, and T waves of the heart rhythm. However, I missed a couple other waves. According to this diagram, it should appear like this for normal sinus rhythm. (I will dive deeper into what these represent later.)"
   ]
  },
  {
   "cell_type": "markdown",
   "id": "cf2876eb-0b2d-496f-bbc1-04673c19916a",
   "metadata": {},
   "source": [
    "<style>\n",
    "#sinus-rhythym-img {\n",
    "    display: flex;\n",
    "    flex-direction: column;\n",
    "    align-items: center;\n",
    "}\n",
    "\n",
    "#sinus-rhythym-img > img {\n",
    "    max-width: 400px;\n",
    "    width: 100%;\n",
    "}\n",
    "</style>\n",
    "\n",
    "<figure id='sinus-rhythym-img'>\n",
    "    <img src=\"assets/images/SinusRhythmLabels.png\">\n",
    "    <figcaption style='text-align: center'>\n",
    "        The structure of a normal heartbeat (Source: <a href='https://en.wikipedia.org/wiki/File:SinusRhythmLabels.svg'>Wikipedia</a>)\n",
    "        </figcaption>\n",
    "</figure>"
   ]
  },
  {
   "cell_type": "markdown",
   "id": "08275a94-0517-4459-82e3-96952a553e84",
   "metadata": {},
   "source": [
    "### Frequency Domain Analysis\n",
    "\n",
    "Since nothing really stood out between the different rythms, perhaps another view of the data might prove more informative. Using the same sample, I plotted their Discrete Fourier Transforms and noted some observations below:"
   ]
  },
  {
   "cell_type": "markdown",
   "id": "6c6454ac-cfbf-4da7-93ce-645c4522e955",
   "metadata": {},
   "source": [
    "<div id='FDA-obs' style='min-width: 600px; overflow: auto;'>\n",
    "<table style='font-size:14px;'>\n",
    "<thead>\n",
    "  <tr>\n",
    "    <th>AFIB</th>\n",
    "    <th>AFL</th>\n",
    "    <th>J</th>\n",
    "    <th>N</th>\n",
    "  </tr>\n",
    "</thead>\n",
    "<tbody>\n",
    "  <tr>\n",
    "    <td>• Hard to notice distinct harmonic banding<br>• Noisy †<br></td>\n",
    "    <td>• Clear harmonic banding<br>• High frequency fundamental</td>\n",
    "    <td>• Sometimes strong harmonic banding<br>• Low frequency fundamental<br>• Slightly noisy †</td>\n",
    "    <td>• Occasionally strong harmonic banding<br>• Records 05091 and 04936 are a little noisy †<br>• Record 08455 has 60 Hz noise<br>(probably a product of the data capture process)</td>\n",
    "  </tr>\n",
    "</tbody>\n",
    "</table>\n",
    "</div>"
   ]
  },
  {
   "cell_type": "markdown",
   "id": "502dea08-9e32-4cf1-bf42-b1b2257618e6",
   "metadata": {},
   "source": [
    "† I should be careful when I say \"noisy\". If you actually look at the signals they derived from, they aren't so noisy per say. However, in the frequency domain, it is harder distinguished harmonic spikes like we see in other signals."
   ]
  },
  {
   "cell_type": "markdown",
   "id": "44c4b865-500a-4d70-b32f-fb080f1c2bd2",
   "metadata": {},
   "source": [
    "<img src=\"assets/images/1x4_dft.png\" style=\"height: 500px; min-width: min-content;\">"
   ]
  },
  {
   "cell_type": "markdown",
   "id": "357dbbe5-6a96-4f0d-8c0c-212bb3126eaa",
   "metadata": {},
   "source": [
    "### Aggregated FDA\n",
    "\n",
    "To do a more general comparison, I took 200 samples for each class, applied a Discrete Fourier Transform, and averaged their values to generate the plot below."
   ]
  },
  {
   "cell_type": "markdown",
   "id": "8a932126-6355-4e5c-ac3d-0b83d04c2d48",
   "metadata": {},
   "source": [
    "<img src=\"assets/images/mean_ecg_dft.png\" style=\"height: 250px; min-width: fit-content;\">"
   ]
  },
  {
   "cell_type": "markdown",
   "id": "28b6af2f-76c4-4f3f-b68a-bce8a61a2475",
   "metadata": {
    "tags": []
   },
   "source": [
    "The only real distinction I can make is sharpness in the banding for each rythym. However, I believe this doesn't really inform us much about the characteristics of each class. We can expect banding as the result of the harmonics produced by the beat rythym. How sharp the banding appears could potentially be explained by the variance of the data in each label. AFL and J will have low variance due to their limited data availablity while AFIB and N have higher variance due to having much larger sample pools. Thus, AFL and J appear \"sharper\" while AFIB and N are more \"fuzzy\".\n",
    "\n",
    "On the other hand, if we compare AFIB and N, they do not follow this pattern. N has slightly more availability than AFIB, having about 20% more data by duration. Therefore, we would expect its plot to appear more varied and with less clear banding. Despite this, its plots appear to have more distinct banding than that of the AFIB signals.\n",
    "\n",
    "One explanation could be due to AFIB appearing in 23 records while N only appears in 21. If this is the case, then I theorize that N's appearance in this plot will become more fuzzy as I increase the sample size for each class. I tested this at two other sample sizes. At 1,000, I observed slightly more variance in both N and AFIB, but harmonic banding remained distinguishable in N. At 10,000 there was no noticable difference than that at the 1,000 level. From this experiment, I can't conclusively say that this isn't the case.\n",
    "\n",
    "Another explanation could be that AFIB rythyms simply have more variation in BPM resulting in this plot appearing less sharp.\n",
    "\n",
    "One final explanation might be more clear if we reference the previous frequency domain plot.  Recall how I noted that the AFIB plots had indistinguishable spikes. This may suggest that the AFIB signals are more eratic resulting in their aggregates appearing as they do."
   ]
  },
  {
   "cell_type": "markdown",
   "id": "c8cd5d60-bb67-499c-acdc-099e8de994bc",
   "metadata": {},
   "source": [
    "## A Closer Look at the ECG\n",
    "\n",
    "An electrocardiogram (ECG or EKG) captures electrical activity along an electrical axis determined by the placement of the electrodes. When a heart beats, the Sinoatrial Node (SA Node) initiates the beat by generating an action potential. This action potential propagates through the myocardium of the atria forcing them to depolarize and pump blood into the ventricles. This event is recorded on the ECG as the P wave. As the action potential continues, it eventually reaches the Atrioventricular Node (AV Node) which functions to delay the action potential from continuing into the ventricles before they are filled. After this delay, the signal then propagates through the ventricles resulting in the huge QRS complex. Finally, the T wave is the result of the repolarization of the ventricles. It should be noted that the atria also repolarize but this is obscured by the QRS complex. ([Source](https://www.aclsmedicaltraining.com/basics-of-ecg/))\n",
    "\n",
    "While normal beats should look mostly like the example that I have provided (with the  P, Q, R, S, and T waves in order and occurring in regular intervals), they can vary significantly and appear differently depending on the placement of the electrical leads and numerous other factors. This especially goes for the QRS complex which can take on many different forms according to some of my sources.\n",
    "\n",
    "During atrial fibrillation, the atria chaotically and rapidly depolarize. However, after activation, the AV Node becomes temporarily unresponsive to further stimulus, so these action potentials do not always reach the ventricles. This results in an ECG that typically lacks a P wave and has an irregular heartbeat. For example, we can observe this in records 08215 and 07910 for the AFib column on the time domain plot.\n"
   ]
  },
  {
   "cell_type": "markdown",
   "id": "e91be8fd-4d37-463d-91cf-c10ec42ab4f8",
   "metadata": {},
   "source": [
    "---\n",
    "## Detection Models\n",
    "\n",
    "Now, my main goal: Creating machine learning models to detect AFib. I actually had a lot of trouble with this initially. I thought that by having such a large dataset, I could just generate random samples during training and validation. However, this system yielded unreliable results, no matter the sample sizes I used. After struggling for a while, I referred to [Detection of Atrial Fibrillation Using 1D Convolutional Neural Network (Hsieh, 2020)](https://www.ncbi.nlm.nih.gov/pmc/articles/PMC7180882/) for some guidance which lead to my final data loading system. After making these changes, I immediately saw better results. Here's the details:"
   ]
  },
  {
   "cell_type": "markdown",
   "id": "c4c88623-e02f-4819-a41f-f38f24134f6a",
   "metadata": {},
   "source": [
    "### ETL Pipeline\n",
    "\n",
    "To split the ECGs into 2-lead, 10-second labeled samples with 3-fold cross-validation, I extracted each unique epsiode of a rhythym and noted the record it came from, when the episode began, and when it ended. Then I discarded any episodes less than 30s (3x the expected length) and split each episode into 3 smaller, equally-sized signals and randomly one-to-one mapped each to a fold. From here, these subsamples were further split into 10 second slices with a 50% overlap between each, discarding any excess. This resulted in 54,989 samples (22,020 AFIB, 32,969 N) per fold. \n",
    "\n",
    "### Models\n",
    "When considering what type model to apply to this problem, I immediately jumped to Convolutional Neural Networks. CNNs have proven themselves as very capable signal classifiers in various other tasks, so I thought that they should be my go-to answer for this problem. However, the exact architecture of a CNN can vary widely so I've compared various designs in this project. The only common elements for the models is that they each take 10-second, 2-lead ECGs as their input and output a prediction of Normal Sinus Rhythym (0) or AFib (1).\n",
    "\n",
    "To generate a baseline I used two models: First a 1-D variation of the Pytorch MobileNetV2 implementation and second a model described in Hsieh et. al, 2020. I also created a self-made CNN, though admittedly I have very little experience with them.\n",
    "\n",
    "To train a model, I held out one fold for validation and trained on the remaining data and repeated this for each model and fold.\n",
    "\n",
    "### Ensembles\n",
    "Lastly, I grouped each fold by architecture into ensembles by averaging their outputs (without performing any further training). I then evaluated the ensembles on the entire dataset to determine if averaging outputs was an effective approach for merging the various models together."
   ]
  },
  {
   "cell_type": "code",
   "execution_count": 5,
   "id": "aba0791e-3ca0-4906-a264-022a0532840d",
   "metadata": {},
   "outputs": [],
   "source": [
    "model_overview, model_agg, merged_model_metrics, metrics_agg = get_performance_tables()"
   ]
  },
  {
   "cell_type": "code",
   "execution_count": 10,
   "id": "18f0b297-350c-467b-8f50-dde68abb59ca",
   "metadata": {},
   "outputs": [
    {
     "data": {
      "text/html": [
       "<div class='ind-model-perf'><p style='font-size: 16px; margin: 0;'>Cross-validated Performance</p></div>"
      ]
     },
     "metadata": {},
     "output_type": "display_data"
    }
   ],
   "source": [
    "model_overview_caption_html = \"<div class='ind-model-perf'><p style='font-size: 16px; margin: 0;'>Cross-validated Performance</p></div>\"\n",
    "display_html(model_overview_caption_html, raw=True)"
   ]
  },
  {
   "cell_type": "code",
   "execution_count": 7,
   "id": "a23bb8f1-df81-4544-b54d-bfc4cab81904",
   "metadata": {
    "tags": []
   },
   "outputs": [
    {
     "data": {
      "text/html": [
       "\n",
       "<style>\n",
       ".level0 {\n",
       "    text-align: center !important;\n",
       "}\n",
       "\n",
       ".ind-model-perf {\n",
       "    min-width: max-content;\n",
       "    display: flex;\n",
       "    justify-content: center;\n",
       "}\n",
       "\n",
       ".ind-model-perf > table {\n",
       "    overflow: auto;\n",
       "}\n",
       "\n",
       "caption {\n",
       "    font-size: 16px !important;\n",
       "}\n",
       "\n",
       ".ind-model-perf > table > thead > tr:nth-child(2) > th:nth-child(3n+2),\n",
       ".ind-model-perf > table > thead > tr:nth-child(3) > th:nth-child(3n+2),\n",
       ".ind-model-perf > table > tbody > tr > td:nth-child(3n+2) {\n",
       "    border-left: solid 2px\n",
       "}\n",
       "\n",
       ".ind-model-perf > table > thead > tr > th.level0:nth-child(-n+3),\n",
       ".ind-model-perf > table > tbody > tr > th:nth-child(1) {\n",
       "    border-right: solid 2px\n",
       "}\n",
       "</style>\n"
      ],
      "text/plain": [
       "<IPython.core.display.HTML object>"
      ]
     },
     "metadata": {},
     "output_type": "display_data"
    },
    {
     "data": {
      "text/html": [
       "<div class='ind-model-perf'><style  type=\"text/css\" >\n",
       "</style><table id=\"T_e5d9f_\" ><thead>    <tr>        <th class=\"index_name level0\" >Model</th>        <th class=\"col_heading level0 col0\" colspan=\"3\">Custom</th>        <th class=\"col_heading level0 col3\" colspan=\"3\">Hsieh</th>        <th class=\"col_heading level0 col6\" colspan=\"3\">MobileNetV2</th>    </tr>    <tr>        <th class=\"blank level1\" ></th>        <th class=\"col_heading level1 col0\" >AUC</th>        <th class=\"col_heading level1 col1\" >Accuracy</th>        <th class=\"col_heading level1 col2\" >F1 Score</th>        <th class=\"col_heading level1 col3\" >AUC</th>        <th class=\"col_heading level1 col4\" >Accuracy</th>        <th class=\"col_heading level1 col5\" >F1 Score</th>        <th class=\"col_heading level1 col6\" >AUC</th>        <th class=\"col_heading level1 col7\" >Accuracy</th>        <th class=\"col_heading level1 col8\" >F1 Score</th>    </tr>    <tr>        <th class=\"index_name level0\" >Fold</th>        <th class=\"blank\" ></th>        <th class=\"blank\" ></th>        <th class=\"blank\" ></th>        <th class=\"blank\" ></th>        <th class=\"blank\" ></th>        <th class=\"blank\" ></th>        <th class=\"blank\" ></th>        <th class=\"blank\" ></th>        <th class=\"blank\" ></th>    </tr></thead><tbody>\n",
       "                <tr>\n",
       "                        <th id=\"T_e5d9f_level0_row0\" class=\"row_heading level0 row0\" >1</th>\n",
       "                        <td id=\"T_e5d9f_row0_col0\" class=\"data row0 col0\" >0.9981</td>\n",
       "                        <td id=\"T_e5d9f_row0_col1\" class=\"data row0 col1\" >0.9884</td>\n",
       "                        <td id=\"T_e5d9f_row0_col2\" class=\"data row0 col2\" >0.9855</td>\n",
       "                        <td id=\"T_e5d9f_row0_col3\" class=\"data row0 col3\" >0.9993</td>\n",
       "                        <td id=\"T_e5d9f_row0_col4\" class=\"data row0 col4\" >0.9929</td>\n",
       "                        <td id=\"T_e5d9f_row0_col5\" class=\"data row0 col5\" >0.9911</td>\n",
       "                        <td id=\"T_e5d9f_row0_col6\" class=\"data row0 col6\" >0.9994</td>\n",
       "                        <td id=\"T_e5d9f_row0_col7\" class=\"data row0 col7\" >0.9925</td>\n",
       "                        <td id=\"T_e5d9f_row0_col8\" class=\"data row0 col8\" >0.9907</td>\n",
       "            </tr>\n",
       "            <tr>\n",
       "                        <th id=\"T_e5d9f_level0_row1\" class=\"row_heading level0 row1\" >2</th>\n",
       "                        <td id=\"T_e5d9f_row1_col0\" class=\"data row1 col0\" >0.9995</td>\n",
       "                        <td id=\"T_e5d9f_row1_col1\" class=\"data row1 col1\" >0.9940</td>\n",
       "                        <td id=\"T_e5d9f_row1_col2\" class=\"data row1 col2\" >0.9925</td>\n",
       "                        <td id=\"T_e5d9f_row1_col3\" class=\"data row1 col3\" >0.9995</td>\n",
       "                        <td id=\"T_e5d9f_row1_col4\" class=\"data row1 col4\" >0.9943</td>\n",
       "                        <td id=\"T_e5d9f_row1_col5\" class=\"data row1 col5\" >0.9928</td>\n",
       "                        <td id=\"T_e5d9f_row1_col6\" class=\"data row1 col6\" >0.9994</td>\n",
       "                        <td id=\"T_e5d9f_row1_col7\" class=\"data row1 col7\" >0.9938</td>\n",
       "                        <td id=\"T_e5d9f_row1_col8\" class=\"data row1 col8\" >0.9922</td>\n",
       "            </tr>\n",
       "            <tr>\n",
       "                        <th id=\"T_e5d9f_level0_row2\" class=\"row_heading level0 row2\" >3</th>\n",
       "                        <td id=\"T_e5d9f_row2_col0\" class=\"data row2 col0\" >0.9997</td>\n",
       "                        <td id=\"T_e5d9f_row2_col1\" class=\"data row2 col1\" >0.9951</td>\n",
       "                        <td id=\"T_e5d9f_row2_col2\" class=\"data row2 col2\" >0.9939</td>\n",
       "                        <td id=\"T_e5d9f_row2_col3\" class=\"data row2 col3\" >0.9992</td>\n",
       "                        <td id=\"T_e5d9f_row2_col4\" class=\"data row2 col4\" >0.9857</td>\n",
       "                        <td id=\"T_e5d9f_row2_col5\" class=\"data row2 col5\" >0.9823</td>\n",
       "                        <td id=\"T_e5d9f_row2_col6\" class=\"data row2 col6\" >0.9996</td>\n",
       "                        <td id=\"T_e5d9f_row2_col7\" class=\"data row2 col7\" >0.9850</td>\n",
       "                        <td id=\"T_e5d9f_row2_col8\" class=\"data row2 col8\" >0.9815</td>\n",
       "            </tr>\n",
       "    </tbody></table></div>"
      ]
     },
     "metadata": {},
     "output_type": "display_data"
    }
   ],
   "source": [
    "model_overview_styler = (\n",
    "    model_overview.style.format(\"{:.4f}\")\n",
    "#     .set_table_attributes(\n",
    "#         \"style='display:inline; margin-right:20px; margin-left: 5%; vertical-align: middle;'\"\n",
    "#     )\n",
    "#     .set_caption('Individual Model Performance')\n",
    ")\n",
    "\n",
    "\n",
    "display(HTML(\"\"\"\n",
    "<style>\n",
    ".level0 {\n",
    "    text-align: center !important;\n",
    "}\n",
    "\n",
    ".ind-model-perf {\n",
    "    min-width: max-content;\n",
    "    display: flex;\n",
    "    justify-content: center;\n",
    "}\n",
    "\n",
    ".ind-model-perf > table {\n",
    "    overflow: auto;\n",
    "}\n",
    "\n",
    "caption {\n",
    "    font-size: 16px !important;\n",
    "}\n",
    "\n",
    ".ind-model-perf > table > thead > tr:nth-child(2) > th:nth-child(3n+2),\n",
    ".ind-model-perf > table > thead > tr:nth-child(3) > th:nth-child(3n+2),\n",
    ".ind-model-perf > table > tbody > tr > td:nth-child(3n+2) {\n",
    "    border-left: solid 2px\n",
    "}\n",
    "\n",
    ".ind-model-perf > table > thead > tr > th.level0:nth-child(-n+3),\n",
    ".ind-model-perf > table > tbody > tr > th:nth-child(1) {\n",
    "    border-right: solid 2px\n",
    "}\n",
    "</style>\n",
    "\"\"\"))\n",
    "\n",
    "model_overview_html = f\"<div class='ind-model-perf'>{model_overview_styler._repr_html_()}</div>\"\n",
    "\n",
    "display_html(model_overview_html, raw=True)"
   ]
  },
  {
   "cell_type": "code",
   "execution_count": 8,
   "id": "5778bc55-bda6-46aa-b6ad-28ce54fc05f6",
   "metadata": {},
   "outputs": [
    {
     "data": {
      "text/html": [
       "\n",
       "<style>\n",
       "#perf-table-wrap {\n",
       "    display: flex !important;\n",
       "    justify-content: center;\n",
       "    flex-wrap: wrap;\n",
       "    margin: auto !important;\n",
       "    padding: 10px;\n",
       "}\n",
       "</style>\n",
       "\n",
       "<div id='perf-table-wrap'>\n",
       "    <style  type=\"text/css\" >\n",
       "</style><table id=\"T_60a3e_\" style='margin:10px !important;'><caption>Averaged Performance</caption><thead>    <tr>        <th class=\"blank level0\" ></th>        <th class=\"col_heading level0 col0\" >Accuracy</th>        <th class=\"col_heading level0 col1\" >F1 Score</th>        <th class=\"col_heading level0 col2\" >AUC</th>    </tr>    <tr>        <th class=\"index_name level0\" >Model</th>        <th class=\"blank\" ></th>        <th class=\"blank\" ></th>        <th class=\"blank\" ></th>    </tr></thead><tbody>\n",
       "                <tr>\n",
       "                        <th id=\"T_60a3e_level0_row0\" class=\"row_heading level0 row0\" >Custom</th>\n",
       "                        <td id=\"T_60a3e_row0_col0\" class=\"data row0 col0\" >0.9925</td>\n",
       "                        <td id=\"T_60a3e_row0_col1\" class=\"data row0 col1\" >0.9907</td>\n",
       "                        <td id=\"T_60a3e_row0_col2\" class=\"data row0 col2\" >0.9991</td>\n",
       "            </tr>\n",
       "            <tr>\n",
       "                        <th id=\"T_60a3e_level0_row1\" class=\"row_heading level0 row1\" >Hsieh</th>\n",
       "                        <td id=\"T_60a3e_row1_col0\" class=\"data row1 col0\" >0.9910</td>\n",
       "                        <td id=\"T_60a3e_row1_col1\" class=\"data row1 col1\" >0.9888</td>\n",
       "                        <td id=\"T_60a3e_row1_col2\" class=\"data row1 col2\" >0.9993</td>\n",
       "            </tr>\n",
       "            <tr>\n",
       "                        <th id=\"T_60a3e_level0_row2\" class=\"row_heading level0 row2\" >MobileNetV2</th>\n",
       "                        <td id=\"T_60a3e_row2_col0\" class=\"data row2 col0\" >0.9904</td>\n",
       "                        <td id=\"T_60a3e_row2_col1\" class=\"data row2 col1\" >0.9881</td>\n",
       "                        <td id=\"T_60a3e_row2_col2\" class=\"data row2 col2\" >0.9994</td>\n",
       "            </tr>\n",
       "    </tbody></table><style  type=\"text/css\" >\n",
       "</style><table id=\"T_99c66_\" style='margin:10px; !important;'><caption>Ensemble Performance</caption><thead>    <tr>        <th class=\"blank level0\" ></th>        <th class=\"col_heading level0 col0\" >Accuracy</th>        <th class=\"col_heading level0 col1\" >F1 Score</th>        <th class=\"col_heading level0 col2\" >AUC</th>    </tr>    <tr>        <th class=\"index_name level0\" >Model</th>        <th class=\"blank\" ></th>        <th class=\"blank\" ></th>        <th class=\"blank\" ></th>    </tr></thead><tbody>\n",
       "                <tr>\n",
       "                        <th id=\"T_99c66_level0_row0\" class=\"row_heading level0 row0\" >Custom</th>\n",
       "                        <td id=\"T_99c66_row0_col0\" class=\"data row0 col0\" >0.9938</td>\n",
       "                        <td id=\"T_99c66_row0_col1\" class=\"data row0 col1\" >0.9922</td>\n",
       "                        <td id=\"T_99c66_row0_col2\" class=\"data row0 col2\" >0.9994</td>\n",
       "            </tr>\n",
       "            <tr>\n",
       "                        <th id=\"T_99c66_level0_row1\" class=\"row_heading level0 row1\" >MobileNetV2</th>\n",
       "                        <td id=\"T_99c66_row1_col0\" class=\"data row1 col0\" >0.9963</td>\n",
       "                        <td id=\"T_99c66_row1_col1\" class=\"data row1 col1\" >0.9954</td>\n",
       "                        <td id=\"T_99c66_row1_col2\" class=\"data row1 col2\" >0.9999</td>\n",
       "            </tr>\n",
       "            <tr>\n",
       "                        <th id=\"T_99c66_level0_row2\" class=\"row_heading level0 row2\" >Hsieh</th>\n",
       "                        <td id=\"T_99c66_row2_col0\" class=\"data row2 col0\" >0.9956</td>\n",
       "                        <td id=\"T_99c66_row2_col1\" class=\"data row2 col1\" >0.9945</td>\n",
       "                        <td id=\"T_99c66_row2_col2\" class=\"data row2 col2\" >0.9998</td>\n",
       "            </tr>\n",
       "    </tbody></table></div>"
      ]
     },
     "metadata": {},
     "output_type": "display_data"
    }
   ],
   "source": [
    "model_agg_styler = (\n",
    "    model_agg.style.format(\"{:.4f}\")\n",
    "    .set_table_attributes(\n",
    "        \"style='margin:10px !important;'\"\n",
    "    )\n",
    "    .set_caption('Averaged Performance')\n",
    ")\n",
    "merged_model_metrics_styler = (\n",
    "    merged_model_metrics.style.format(\"{:.4f}\")\n",
    "    .set_table_attributes(\n",
    "        \"style='margin:10px; !important;'\"\n",
    "    )\n",
    "    .set_caption('Ensemble Performance')\n",
    ")\n",
    "\n",
    "perf_html = model_agg_styler._repr_html_()+merged_model_metrics_styler._repr_html_()\n",
    "perf_html = ('''\n",
    "<style>\n",
    "#perf-table-wrap {\n",
    "    display: flex !important;\n",
    "    justify-content: center;\n",
    "    flex-wrap: wrap;\n",
    "    margin: auto !important;\n",
    "    padding: 10px;\n",
    "}\n",
    "</style>\n",
    "\n",
    "<div id='perf-table-wrap'>\n",
    "    ''' +\n",
    "    perf_html +\n",
    "    '</div>'\n",
    ")\n",
    "\n",
    "display_html(perf_html, raw=True)"
   ]
  },
  {
   "cell_type": "markdown",
   "id": "5d579b36-d6b2-48a3-b9de-a7f202d5a7f2",
   "metadata": {},
   "source": [
    "## Results and Discussion\n",
    "In summary, all of the CNN’s seemed to be extremely capable at classifying AFib ECGs against N ECGs. After all, they were designed with signal classification in mind. We also saw that averaging models outputs was a viable method of aggregating the models into ensembles. I wouldn’t say it necesssarily improves the models' performances, but it doesn’t completely break the model either.\n",
    "\n",
    "Now, this implementation is likely far from what Apple did to approach the problem. Namely, Apple specifically targeted a deployment on a proprietary wearable device. This makes some aspects of this project unrealistic. Apple had various systems in place to deal with noisy data which can be frequently encountered when recording ECGs from a mobile device. Whereas my data was captured in a clinical setting likely with a more reliable data capture method as well as an extra electrical lead. Furthermore, I would need to consider not just the accuracy of model, but also its size and compute time. I did have this in mind which was one of the reasons why I chose to use Mobilenet as one of the models I tested.\n",
    "\n",
    "While I am satified with the performance of the models, I think there may be some methods to achieve better results. \n",
    "- We could consider performing more transformations on the data before feeding into a model. While the signal has already been band-passed filtered as part of the digitization process, it could potenially benefit from more filtering. For example, to remove the 60 Hz noise we observe in some records.\n",
    "- We could also add more features like BPM or the variance of the R-R interval\n",
    "- Could also try to isolate specific waves of the heartbeat, though that would require a more complex model.\n",
    "- Perhaps doing a frequency domain transformation to generate a spectrogram and using that as the feature to feed into a CNN would also work, but it would undoubtedly add to complexity and therefore size of model. This might put it beyond what I can train with my resources and also make it too large to be usable on a wearable device.\n",
    "\n",
    "We could also expand the capabilities of the model by adding other arrythmias as labels. The biggest limit here would be collecting enough data. AFib is one of the most common arrhythmias so it is not too difficult to collect a lot of data for it if targeting it. However episodes of other arrhythmias will occur much more rarely and result in severely imbalanced datasets. Therefore you’d likely need to collect an unconscionable amount of data and implement an unsupervised or semi-supervised method for labeling the data due to its immensity.\n",
    "\n",
    "Overall, I'm very satisfied with my results. If you would like to replicate them, I have detailed steps for doing so in the github repo for this project linked in the Appendix."
   ]
  },
  {
   "cell_type": "markdown",
   "id": "c59f00d5-01bd-47b7-8f7d-b914f1c681a9",
   "metadata": {},
   "source": [
    "----"
   ]
  },
  {
   "cell_type": "markdown",
   "id": "ca730832-0114-4461-a31b-c78f232ebb27",
   "metadata": {},
   "source": [
    "## Citations\n",
    "Goldberger, A., et al. \"PhysioBank, PhysioToolkit, and PhysioNet: Components of a new research resource for complex physiologic signals. Circulation [Online]. 101 (23), pp. e215–e220.\" (2000).\n",
    "\n",
    "Hsieh, Chaur-Heh et al. “Detection of Atrial Fibrillation Using 1D Convolutional Neural Network.” Sensors (Basel, Switzerland) vol. 20,7 2136. 10 Apr. 2020, doi:10.3390/s20072136\n",
    "\n",
    "## Appendix\n",
    "[Source Code](https://github.com/rcgonzalez9061/afib-detector)"
   ]
  }
 ],
 "metadata": {
  "jekyll": {
   "layout": "page",
   "permalink": "/",
   "title": "AFib Detection"
  },
  "kernelspec": {
   "display_name": "Python 3",
   "language": "python",
   "name": "python3"
  },
  "language_info": {
   "codemirror_mode": {
    "name": "ipython",
    "version": 3
   },
   "file_extension": ".py",
   "mimetype": "text/x-python",
   "name": "python",
   "nbconvert_exporter": "python",
   "pygments_lexer": "ipython3",
   "version": "3.8.10"
  },
  "toc-autonumbering": false,
  "toc-showcode": false,
  "toc-showmarkdowntxt": false,
  "toc-showtags": true
 },
 "nbformat": 4,
 "nbformat_minor": 5
}

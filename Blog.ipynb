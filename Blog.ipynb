{
 "cells": [
  {
   "cell_type": "code",
   "execution_count": 1,
   "id": "0d9219a8-9ee7-4c6a-8e7c-6e555ba53d00",
   "metadata": {},
   "outputs": [],
   "source": [
    "import os\n",
    "project_root = '/home/roobz/Jupyter/afib-detector/src'\n",
    "os.chdir(project_root)\n",
    "\n",
    "import eda\n",
    "from evaluate import get_performance_tables\n",
    "from IPython.display import display_html, Image, display, HTML\n",
    "\n",
    "%load_ext autoreload\n",
    "%autoreload 2"
   ]
  },
  {
   "cell_type": "code",
   "execution_count": 6,
   "id": "88d5e945-5d32-44da-bbed-b28a25ec07ba",
   "metadata": {},
   "outputs": [],
   "source": [
    "import warnings\n",
    "warnings.filterwarnings(\"ignore\")"
   ]
  },
  {
   "cell_type": "markdown",
   "id": "a1810449-99c4-4b94-80d2-c4db6dbb02e0",
   "metadata": {
    "tags": []
   },
   "source": [
    "# Detecting Atrial Fibrilation with 1-D CNNs"
   ]
  },
  {
   "cell_type": "markdown",
   "id": "443ff7c0-a01c-4140-ae4e-bb13dfdf1a87",
   "metadata": {},
   "source": [
    "So I recently bought an Apple Watch. It was on sale for a pretty good deal and I’ve been wanting one for quite a while, so I just had to get it. Like I normally do with all of my recently purchased gadgets, I played around with it in the middle of the night to figure out all of its features. This led to me discovering the ECG feature which intrigued me, so I set out to recreate a similar system to detect Atrial Fibrillation (AFib) like Apple’s implementation does. \n",
    "\n",
    "The thing is, I had no prior experience with ECGs. Most of what I know is focused around computers, so the biomedical domain isn’t really my specialty. However, I thought this project would serve as a good exploration into the domain.\n",
    "\n",
    "**TLDR;** I got an Apple Watch. It can do ECGs. I wanted to replicate that and learn more about ECGs."
   ]
  },
  {
   "cell_type": "markdown",
   "id": "e21c4e56-73cc-4b5b-b4e5-37de09e0dcb3",
   "metadata": {},
   "source": [
    "## Data"
   ]
  },
  {
   "cell_type": "markdown",
   "id": "a09313da-9771-44e1-aa52-0d744b4dce28",
   "metadata": {},
   "source": [
    "The first thing I had to do was to source a good ECG dataset. Luckily, I quickly found the [MIT-BIH Atrial Fibrillation Database](https://physionet.org/content/afdb/1.0.0/). It contains annotated ECG data from 23 unique patients each with two simultaneous 10 hour ECG signals. The annotations detailing the rythym at a given time are given in a record's `.atr` files. There are 4 different types of annotations for hearth rythyms: Atrial Fibrilation (AFIB), Atrial Flutter (AFL), AV Junction (J), and \"all other rythyms\" (N). The dataset mostly captures AFIB and N rythyms while AFL and J only make up around 1% of the data."
   ]
  },
  {
   "cell_type": "code",
   "execution_count": 53,
   "id": "2f1abb3b-effe-43f7-b7e3-f0d871a34879",
   "metadata": {},
   "outputs": [
    {
     "data": {
      "text/html": [
       "\n",
       "<style>\n",
       "#data_overview {\n",
       "    margin: auto !important;\n",
       "    display: flex;\n",
       "    justify-content: center;\n",
       "}\n",
       "</style>\n"
      ],
      "text/plain": [
       "<IPython.core.display.HTML object>"
      ]
     },
     "metadata": {},
     "output_type": "display_data"
    },
    {
     "data": {
      "text/html": [
       "<div id='data_overview'><style  type=\"text/css\" >\n",
       "</style><table id=\"T_b1024_\" ><thead>    <tr>        <th class=\"blank level0\" ></th>        <th class=\"col_heading level0 col0\" >Total Duration<br>(Minutes)</th>        <th class=\"col_heading level0 col1\" >Total<br>Duration (%)</th>        <th class=\"col_heading level0 col2\" >Unique<br>Occasions</th>        <th class=\"col_heading level0 col3\" >Min<br>Duration</th>        <th class=\"col_heading level0 col4\" >Avg Duration<br>(Samples)</th>        <th class=\"col_heading level0 col5\" >Long Samples<br>(>30s)</th>    </tr>    <tr>        <th class=\"index_name level0\" >Label</th>        <th class=\"blank\" ></th>        <th class=\"blank\" ></th>        <th class=\"blank\" ></th>        <th class=\"blank\" ></th>        <th class=\"blank\" ></th>        <th class=\"blank\" ></th>    </tr></thead><tbody>\n",
       "                <tr>\n",
       "                        <th id=\"T_b1024_level0_row0\" class=\"row_heading level0 row0\" >AFIB</th>\n",
       "                        <td id=\"T_b1024_row0_col0\" class=\"data row0 col0\" >5,603.85</td>\n",
       "                        <td id=\"T_b1024_row0_col1\" class=\"data row0 col1\" >39.87%</td>\n",
       "                        <td id=\"T_b1024_row0_col2\" class=\"data row0 col2\" >291</td>\n",
       "                        <td id=\"T_b1024_row0_col3\" class=\"data row0 col3\" >420</td>\n",
       "                        <td id=\"T_b1024_row0_col4\" class=\"data row0 col4\" >288,858</td>\n",
       "                        <td id=\"T_b1024_row0_col5\" class=\"data row0 col5\" >226</td>\n",
       "            </tr>\n",
       "            <tr>\n",
       "                        <th id=\"T_b1024_level0_row1\" class=\"row_heading level0 row1\" >AFL</th>\n",
       "                        <td id=\"T_b1024_row1_col0\" class=\"data row1 col0\" >97.95</td>\n",
       "                        <td id=\"T_b1024_row1_col1\" class=\"data row1 col1\" >0.70%</td>\n",
       "                        <td id=\"T_b1024_row1_col2\" class=\"data row1 col2\" >14</td>\n",
       "                        <td id=\"T_b1024_row1_col3\" class=\"data row1 col3\" >882</td>\n",
       "                        <td id=\"T_b1024_row1_col4\" class=\"data row1 col4\" >104,947</td>\n",
       "                        <td id=\"T_b1024_row1_col5\" class=\"data row1 col5\" >7</td>\n",
       "            </tr>\n",
       "            <tr>\n",
       "                        <th id=\"T_b1024_level0_row2\" class=\"row_heading level0 row2\" >J</th>\n",
       "                        <td id=\"T_b1024_row2_col0\" class=\"data row2 col0\" >5.52</td>\n",
       "                        <td id=\"T_b1024_row2_col1\" class=\"data row2 col1\" >0.04%</td>\n",
       "                        <td id=\"T_b1024_row2_col2\" class=\"data row2 col2\" >12</td>\n",
       "                        <td id=\"T_b1024_row2_col3\" class=\"data row2 col3\" >380</td>\n",
       "                        <td id=\"T_b1024_row2_col4\" class=\"data row2 col4\" >6,894</td>\n",
       "                        <td id=\"T_b1024_row2_col5\" class=\"data row2 col5\" >3</td>\n",
       "            </tr>\n",
       "            <tr>\n",
       "                        <th id=\"T_b1024_level0_row3\" class=\"row_heading level0 row3\" >N</th>\n",
       "                        <td id=\"T_b1024_row3_col0\" class=\"data row3 col0\" >8,349.30</td>\n",
       "                        <td id=\"T_b1024_row3_col1\" class=\"data row3 col1\" >59.40%</td>\n",
       "                        <td id=\"T_b1024_row3_col2\" class=\"data row3 col2\" >288</td>\n",
       "                        <td id=\"T_b1024_row3_col3\" class=\"data row3 col3\" >1062</td>\n",
       "                        <td id=\"T_b1024_row3_col4\" class=\"data row3 col4\" >434,859</td>\n",
       "                        <td id=\"T_b1024_row3_col5\" class=\"data row3 col5\" >263</td>\n",
       "            </tr>\n",
       "    </tbody></table></div>"
      ]
     },
     "metadata": {},
     "output_type": "display_data"
    }
   ],
   "source": [
    "display(HTML(\"\"\"\n",
    "<style>\n",
    "#data_overview {\n",
    "    margin: auto !important;\n",
    "    display: flex;\n",
    "    justify-content: center;\n",
    "}\n",
    "</style>\n",
    "\"\"\"))\n",
    "\n",
    "\n",
    "data_overview = (\n",
    "    eda.generate_grouped_label_table()\n",
    ")\n",
    "data_overview_html = f\"<div id='data_overview'>{data_overview._repr_html_()}</div>\"\n",
    "display_html(data_overview_html, raw=True)"
   ]
  },
  {
   "cell_type": "markdown",
   "id": "8b7e4c15-81b9-4218-9425-61c2458d99ac",
   "metadata": {},
   "source": [
    "Again, I am going into this project with little to no background knowledge on how ECGs work and what characteristics each rhythm tends to display. So using the data, I'm going to hypothesize the characteristics of each rhythm then compare my hypotheses with existing information."
   ]
  },
  {
   "cell_type": "markdown",
   "id": "910a1acf-9c58-44f6-bdf6-02f689355ac1",
   "metadata": {},
   "source": [
    "## Time Domain Analysis\n",
    "\n",
    "FFirst, I've curated a small random sample that has decent variation which I have plotted below for a quick visual comparison. While I don’t really notice any obvious differences between the different rhythms, I did notice that they see to follow the same pattern of having some sort of lead-up activity, a giant spike in activity and then some follow-up activity. This is extremely prevalent in record 08455."
   ]
  },
  {
   "cell_type": "markdown",
   "id": "36a8d9da-7987-4e1b-b9df-79c39f94c718",
   "metadata": {},
   "source": [
    "{% include 1x4.png %}"
   ]
  },
  {
   "cell_type": "markdown",
   "id": "815e4673-f2f0-4ded-b19e-9e898a07ca13",
   "metadata": {},
   "source": [
    "I later learned that these were the P, R, and T waves of the heart rhythm. However, I missed a couple other waves. According to this diagram, it should appear like this for normal sinus rhythm (Wikipedia)."
   ]
  },
  {
   "cell_type": "markdown",
   "id": "cf2876eb-0b2d-496f-bbc1-04673c19916a",
   "metadata": {},
   "source": [
    "{% include SinusRhythmLabels.png %}"
   ]
  },
  {
   "cell_type": "markdown",
   "id": "08275a94-0517-4459-82e3-96952a553e84",
   "metadata": {},
   "source": [
    "## Frequency Domain Analysis\n",
    "\n",
    "Since nothing really stood out between the different rythms, perhaps another view of the data might prove more informative. Using the same sample, I plotted their Discrete Fourier Transforms and noted some observations below.\n",
    "\n",
    "<table style='font-size:14px'>\n",
    "<thead>\n",
    "  <tr>\n",
    "    <th>AFIB</th>\n",
    "    <th>AFL</th>\n",
    "    <th>J</th>\n",
    "    <th>N</th>\n",
    "  </tr>\n",
    "</thead>\n",
    "<tbody>\n",
    "  <tr>\n",
    "    <td>• Hard to notice distinct harmonic banding<br>• Noisy †<br></td>\n",
    "    <td>• Clear harmonic banding<br>• High frequency fundamental</td>\n",
    "    <td>• Sometimes strong harmonic banding<br>• Low frequency fundamental<br>• Slightly noisy †</td>\n",
    "    <td>• Occasionally strong harmonic banding<br>• Records 05091 and 04936 are a little noisy †<br>• Record 08455 has 60 Hz noise<br>(probably a product of the data capture process)</td>\n",
    "  </tr>\n",
    "</tbody>\n",
    "</table>\n",
    "\n",
    "† I should be careful when I say \"noisy\". If you actually look at the signals they derived from, they aren't so noisy per say. However, in the frequency domain, it is hard distinguished harmonic spikes like we see in the other signals."
   ]
  },
  {
   "cell_type": "markdown",
   "id": "44c4b865-500a-4d70-b32f-fb080f1c2bd2",
   "metadata": {},
   "source": [
    "{% include 1x4_dft.png %}"
   ]
  },
  {
   "cell_type": "markdown",
   "id": "28b6af2f-76c4-4f3f-b68a-bce8a61a2475",
   "metadata": {
    "tags": []
   },
   "source": [
    "## Aggregated FDA\n",
    "\n",
    "To do a more general comparison, I took 200 samples for each class, applied a Discrete Fourier Transform, and averaged their values to generate the plot below.\n",
    "\n",
    "{% include mean_ecg_dft.png %}\n",
    "\n",
    "The only real distinction I can make is sharpness in the banding for each rythym. However, I believe this doesn't really inform us much about the characteristics of each class. We can expect banding as the result of the harmonics produced by the beat rythym. The sharpness of this banding is likely a result of the variance in each label. AFL and J will have low variance due to the limited number of samples available for them while AFIB and N have higher variance since they have a larger sample pool. Thus, AFL and J appear \"sharper\" while AFIB and N are more \"fuzzy\".\n",
    "\n",
    "There is a slight contradiction though. AFIB and N do not follow this pattern. N has slightly more sample availability than AFIB, having about 20% more data available by duration and appearing in more unique occasions that last longer than 5 seconds. Still, AFIB appears to have more variance making it hard to distinguish any clear harmonics. Meanwhile, N has some pretty evident harmonic banding. \n",
    "\n",
    "One explanation could be due to AFIB appearing in 23 records while N only appears in 21. If this is the case, then I theorize that N's appearance in this plot will become more fuzzy as I increase the sample size for each class. I tested this at two other sample sizes. At 1,000, I observed slightly more variance in both N and AFIB, but harmonic banding remained distinguishable in N. At 10,000 there was no noticable difference than that at the 1,000 level. From this experiment, I can't conclusively say that this isn't the case.\n",
    "\n",
    "Another explanation could be that AFIB rythyms simply have more variation in BPM resulting in this plot appearing less sharp.\n",
    "\n",
    "One final explanation might be more clear if we reference the previous frequency domain plot.  Recall how I noted that the AFIB plots had indistinguishable spikes. This may indicate the AFIB signals are more eratic resulting in their aggregates appearing as they do."
   ]
  },
  {
   "cell_type": "markdown",
   "id": "e91be8fd-4d37-463d-91cf-c10ec42ab4f8",
   "metadata": {},
   "source": [
    "## Detection Models\n",
    "\n",
    "Now, my main goal: Creating machine learning models to detect AFib. I actually had a lot of trouble with this initially. I thought that by having such a large dataset, I could just generate random samples during training and validation. However, this system yielded unreliable results, no matter the sample sizes I used. After struggling for a while, I referred to [Detection of Atrial Fibrillation Using 1D Convolutional Neural Network (Hsieh, 2020)](https://www.ncbi.nlm.nih.gov/pmc/articles/PMC7180882/) for some guidance which lead to my final data loading system. After making these changes, I immediately saw better results. Here’s the details:"
   ]
  },
  {
   "cell_type": "markdown",
   "id": "c4c88623-e02f-4819-a41f-f38f24134f6a",
   "metadata": {},
   "source": [
    "### ETL Pipeline\n",
    "\n",
    "To split the data into 10-second labeled samples with 3-fold cross-validation, I extracted each unique occurance of an annotation and noted the record it came from, when the occurance began, and when it ended. Then I discarded any occurances less than 30s (3x the expected length) and split each occurance into 3 smaller, equally-sized signals and randomly one-to-one mapped each to a fold. From here, the subsamples were further split into 10 second slices with a 50% overlap between each, discarding any excess. This resulted in 54,989 samples (22,020 AFIB, 32,969 N) per fold. \n",
    "\n",
    "### Models\n",
    "When considering what type model to apply to this problem, I immediately jumped to Convolutional Neural Networks. CNNs have proven themselves as very capable signal classifiers in various other tasks, so I thought that they should be my go-to answer for this problem. However, the exact architecture of a CNN can vary widely so I've compared various designs in this project. The only common elements for the models is that they each take 10-second, 2-lead ECGs as their input and output a prediction of Normal Sinus Rhythym (0) or AFib (1).\n",
    "\n",
    "To generate a baseline I used two models: First a 1-D variation of the Pytorch MobileNetV2 implementation and second the model described in Hsieh et. al, 2020. I also created a self-made CNN (though admittedly I have very little experience with them).\n",
    "To train a model, I held out one fold for validation and trained on the remaining data and repeated this for each model and fold.\n",
    "\n",
    "### Ensembles\n",
    "Lastly, I grouped each fold by architecture into ensembles by averaging their outputs (without performing any further training). I then evaluated the ensembles on the entire dataset to determine if averaging outputs was an effective approach for merging the various models together."
   ]
  },
  {
   "cell_type": "code",
   "execution_count": 10,
   "id": "a23bb8f1-df81-4544-b54d-bfc4cab81904",
   "metadata": {
    "tags": []
   },
   "outputs": [
    {
     "data": {
      "text/html": [
       "\n",
       "<style>\n",
       ".level0 {\n",
       "    text-align: center !important;\n",
       "}\n",
       "\n",
       "#ind_model_perf {\n",
       "    margin: auto !important;\n",
       "    display: flex;\n",
       "    justify-content: center;\n",
       "}\n",
       "</style>\n"
      ],
      "text/plain": [
       "<IPython.core.display.HTML object>"
      ]
     },
     "metadata": {},
     "output_type": "display_data"
    },
    {
     "data": {
      "text/html": [
       "<div id='ind_model_perf'><style  type=\"text/css\" >\n",
       "</style><table id=\"T_d355d_\" ><caption>Individual Model Performance</caption><thead>    <tr>        <th class=\"index_name level0\" >Model</th>        <th class=\"col_heading level0 col0\" colspan=\"3\">Custom</th>        <th class=\"col_heading level0 col3\" colspan=\"3\">Hsieh</th>        <th class=\"col_heading level0 col6\" colspan=\"3\">MobileNetV2</th>    </tr>    <tr>        <th class=\"blank level1\" ></th>        <th class=\"col_heading level1 col0\" >AUC</th>        <th class=\"col_heading level1 col1\" >Accuracy</th>        <th class=\"col_heading level1 col2\" >F1 Score</th>        <th class=\"col_heading level1 col3\" >AUC</th>        <th class=\"col_heading level1 col4\" >Accuracy</th>        <th class=\"col_heading level1 col5\" >F1 Score</th>        <th class=\"col_heading level1 col6\" >AUC</th>        <th class=\"col_heading level1 col7\" >Accuracy</th>        <th class=\"col_heading level1 col8\" >F1 Score</th>    </tr>    <tr>        <th class=\"index_name level0\" >Fold</th>        <th class=\"blank\" ></th>        <th class=\"blank\" ></th>        <th class=\"blank\" ></th>        <th class=\"blank\" ></th>        <th class=\"blank\" ></th>        <th class=\"blank\" ></th>        <th class=\"blank\" ></th>        <th class=\"blank\" ></th>        <th class=\"blank\" ></th>    </tr></thead><tbody>\n",
       "                <tr>\n",
       "                        <th id=\"T_d355d_level0_row0\" class=\"row_heading level0 row0\" >1</th>\n",
       "                        <td id=\"T_d355d_row0_col0\" class=\"data row0 col0\" >0.9981</td>\n",
       "                        <td id=\"T_d355d_row0_col1\" class=\"data row0 col1\" >0.9884</td>\n",
       "                        <td id=\"T_d355d_row0_col2\" class=\"data row0 col2\" >0.9855</td>\n",
       "                        <td id=\"T_d355d_row0_col3\" class=\"data row0 col3\" >0.9993</td>\n",
       "                        <td id=\"T_d355d_row0_col4\" class=\"data row0 col4\" >0.9929</td>\n",
       "                        <td id=\"T_d355d_row0_col5\" class=\"data row0 col5\" >0.9911</td>\n",
       "                        <td id=\"T_d355d_row0_col6\" class=\"data row0 col6\" >0.9994</td>\n",
       "                        <td id=\"T_d355d_row0_col7\" class=\"data row0 col7\" >0.9925</td>\n",
       "                        <td id=\"T_d355d_row0_col8\" class=\"data row0 col8\" >0.9907</td>\n",
       "            </tr>\n",
       "            <tr>\n",
       "                        <th id=\"T_d355d_level0_row1\" class=\"row_heading level0 row1\" >2</th>\n",
       "                        <td id=\"T_d355d_row1_col0\" class=\"data row1 col0\" >0.9995</td>\n",
       "                        <td id=\"T_d355d_row1_col1\" class=\"data row1 col1\" >0.9940</td>\n",
       "                        <td id=\"T_d355d_row1_col2\" class=\"data row1 col2\" >0.9925</td>\n",
       "                        <td id=\"T_d355d_row1_col3\" class=\"data row1 col3\" >0.9995</td>\n",
       "                        <td id=\"T_d355d_row1_col4\" class=\"data row1 col4\" >0.9943</td>\n",
       "                        <td id=\"T_d355d_row1_col5\" class=\"data row1 col5\" >0.9928</td>\n",
       "                        <td id=\"T_d355d_row1_col6\" class=\"data row1 col6\" >0.9994</td>\n",
       "                        <td id=\"T_d355d_row1_col7\" class=\"data row1 col7\" >0.9938</td>\n",
       "                        <td id=\"T_d355d_row1_col8\" class=\"data row1 col8\" >0.9922</td>\n",
       "            </tr>\n",
       "            <tr>\n",
       "                        <th id=\"T_d355d_level0_row2\" class=\"row_heading level0 row2\" >3</th>\n",
       "                        <td id=\"T_d355d_row2_col0\" class=\"data row2 col0\" >0.9997</td>\n",
       "                        <td id=\"T_d355d_row2_col1\" class=\"data row2 col1\" >0.9951</td>\n",
       "                        <td id=\"T_d355d_row2_col2\" class=\"data row2 col2\" >0.9939</td>\n",
       "                        <td id=\"T_d355d_row2_col3\" class=\"data row2 col3\" >0.9992</td>\n",
       "                        <td id=\"T_d355d_row2_col4\" class=\"data row2 col4\" >0.9857</td>\n",
       "                        <td id=\"T_d355d_row2_col5\" class=\"data row2 col5\" >0.9823</td>\n",
       "                        <td id=\"T_d355d_row2_col6\" class=\"data row2 col6\" >0.9996</td>\n",
       "                        <td id=\"T_d355d_row2_col7\" class=\"data row2 col7\" >0.9850</td>\n",
       "                        <td id=\"T_d355d_row2_col8\" class=\"data row2 col8\" >0.9815</td>\n",
       "            </tr>\n",
       "    </tbody></table></div>"
      ]
     },
     "metadata": {},
     "output_type": "display_data"
    }
   ],
   "source": [
    "model_overview, model_agg, merged_model_metrics, metrics_agg = get_performance_tables()\n",
    "\n",
    "model_overview_styler = (\n",
    "    model_overview.style.format(\"{:.4f}\")\n",
    "#     .set_table_attributes(\n",
    "#         \"style='display:inline; margin-right:20px; margin-left: 5%; vertical-align: middle;'\"\n",
    "#     )\n",
    "    .set_caption('Individual Model Performance')\n",
    ")\n",
    "\n",
    "\n",
    "display(HTML(\"\"\"\n",
    "<style>\n",
    ".level0 {\n",
    "    text-align: center !important;\n",
    "}\n",
    "\n",
    "#ind_model_perf {\n",
    "    margin: auto !important;\n",
    "    display: flex;\n",
    "    justify-content: center;\n",
    "}\n",
    "</style>\n",
    "\"\"\"))\n",
    "\n",
    "model_overview_html = f\"<div id='ind_model_perf'>{model_overview_styler._repr_html_()}</div>\"\n",
    "\n",
    "display_html(model_overview_html, raw=True)"
   ]
  },
  {
   "cell_type": "code",
   "execution_count": 11,
   "id": "5778bc55-bda6-46aa-b6ad-28ce54fc05f6",
   "metadata": {},
   "outputs": [
    {
     "data": {
      "text/html": [
       "\n",
       "    <style>\n",
       "    #perf_table_wrap {\n",
       "        display: flex !important;\n",
       "        justify-content: center;\n",
       "        margin: auto !important;\n",
       "        align-items: center !important;\n",
       "        padding: 10px;\n",
       "    }\n",
       "    </style>\n",
       "\n",
       "    <div id='perf_table_wrap'>\n",
       "    <style  type=\"text/css\" >\n",
       "</style><table id=\"T_fc1c5_\" style='margin:10px !important;'><caption>Averaged Performance</caption><thead>    <tr>        <th class=\"blank level0\" ></th>        <th class=\"col_heading level0 col0\" >Accuracy</th>        <th class=\"col_heading level0 col1\" >F1 Score</th>        <th class=\"col_heading level0 col2\" >AUC</th>    </tr>    <tr>        <th class=\"index_name level0\" >Model</th>        <th class=\"blank\" ></th>        <th class=\"blank\" ></th>        <th class=\"blank\" ></th>    </tr></thead><tbody>\n",
       "                <tr>\n",
       "                        <th id=\"T_fc1c5_level0_row0\" class=\"row_heading level0 row0\" >Custom</th>\n",
       "                        <td id=\"T_fc1c5_row0_col0\" class=\"data row0 col0\" >0.9925</td>\n",
       "                        <td id=\"T_fc1c5_row0_col1\" class=\"data row0 col1\" >0.9907</td>\n",
       "                        <td id=\"T_fc1c5_row0_col2\" class=\"data row0 col2\" >0.9991</td>\n",
       "            </tr>\n",
       "            <tr>\n",
       "                        <th id=\"T_fc1c5_level0_row1\" class=\"row_heading level0 row1\" >Hsieh</th>\n",
       "                        <td id=\"T_fc1c5_row1_col0\" class=\"data row1 col0\" >0.9910</td>\n",
       "                        <td id=\"T_fc1c5_row1_col1\" class=\"data row1 col1\" >0.9888</td>\n",
       "                        <td id=\"T_fc1c5_row1_col2\" class=\"data row1 col2\" >0.9993</td>\n",
       "            </tr>\n",
       "            <tr>\n",
       "                        <th id=\"T_fc1c5_level0_row2\" class=\"row_heading level0 row2\" >MobileNetV2</th>\n",
       "                        <td id=\"T_fc1c5_row2_col0\" class=\"data row2 col0\" >0.9904</td>\n",
       "                        <td id=\"T_fc1c5_row2_col1\" class=\"data row2 col1\" >0.9881</td>\n",
       "                        <td id=\"T_fc1c5_row2_col2\" class=\"data row2 col2\" >0.9994</td>\n",
       "            </tr>\n",
       "    </tbody></table><style  type=\"text/css\" >\n",
       "</style><table id=\"T_c729b_\" style='margin:10px; !important;'><caption>Averaged Ensemble Performance</caption><thead>    <tr>        <th class=\"blank level0\" ></th>        <th class=\"col_heading level0 col0\" >Accuracy</th>        <th class=\"col_heading level0 col1\" >F1 Score</th>        <th class=\"col_heading level0 col2\" >AUC</th>    </tr>    <tr>        <th class=\"index_name level0\" >Model</th>        <th class=\"blank\" ></th>        <th class=\"blank\" ></th>        <th class=\"blank\" ></th>    </tr></thead><tbody>\n",
       "                <tr>\n",
       "                        <th id=\"T_c729b_level0_row0\" class=\"row_heading level0 row0\" >Custom</th>\n",
       "                        <td id=\"T_c729b_row0_col0\" class=\"data row0 col0\" >0.9938</td>\n",
       "                        <td id=\"T_c729b_row0_col1\" class=\"data row0 col1\" >0.9922</td>\n",
       "                        <td id=\"T_c729b_row0_col2\" class=\"data row0 col2\" >0.9994</td>\n",
       "            </tr>\n",
       "            <tr>\n",
       "                        <th id=\"T_c729b_level0_row1\" class=\"row_heading level0 row1\" >MobileNetV2</th>\n",
       "                        <td id=\"T_c729b_row1_col0\" class=\"data row1 col0\" >0.9963</td>\n",
       "                        <td id=\"T_c729b_row1_col1\" class=\"data row1 col1\" >0.9954</td>\n",
       "                        <td id=\"T_c729b_row1_col2\" class=\"data row1 col2\" >0.9999</td>\n",
       "            </tr>\n",
       "            <tr>\n",
       "                        <th id=\"T_c729b_level0_row2\" class=\"row_heading level0 row2\" >Hsieh</th>\n",
       "                        <td id=\"T_c729b_row2_col0\" class=\"data row2 col0\" >0.9956</td>\n",
       "                        <td id=\"T_c729b_row2_col1\" class=\"data row2 col1\" >0.9945</td>\n",
       "                        <td id=\"T_c729b_row2_col2\" class=\"data row2 col2\" >0.9998</td>\n",
       "            </tr>\n",
       "    </tbody></table></div>"
      ]
     },
     "metadata": {},
     "output_type": "display_data"
    }
   ],
   "source": [
    "model_agg_styler = (\n",
    "    model_agg.style.format(\"{:.4f}\")\n",
    "    .set_table_attributes(\n",
    "        \"style='margin:10px !important;'\"\n",
    "    )\n",
    "    .set_caption('Averaged Performance')\n",
    ")\n",
    "merged_model_metrics_styler = (\n",
    "    merged_model_metrics.style.format(\"{:.4f}\")\n",
    "    .set_table_attributes(\n",
    "        \"style='margin:10px; !important;'\"\n",
    "    )\n",
    "    .set_caption('Averaged Ensemble Performance')\n",
    ")\n",
    "\n",
    "perf_html = model_agg_styler._repr_html_()+merged_model_metrics_styler._repr_html_()\n",
    "perf_html = (\n",
    "    '''\n",
    "    <style>\n",
    "    #perf_table_wrap {\n",
    "        display: flex !important;\n",
    "        justify-content: center;\n",
    "        margin: auto !important;\n",
    "        align-items: center !important;\n",
    "        padding: 10px;\n",
    "    }\n",
    "    </style>\n",
    "\n",
    "    <div id='perf_table_wrap'>\n",
    "    ''' +\n",
    "    perf_html +\n",
    "    '</div>'\n",
    ")\n",
    "\n",
    "display_html(perf_html, raw=True)"
   ]
  },
  {
   "cell_type": "markdown",
   "id": "5d579b36-d6b2-48a3-b9de-a7f202d5a7f2",
   "metadata": {},
   "source": [
    "## Conclusion\n",
    "\n",
    "Coming soon!"
   ]
  },
  {
   "cell_type": "code",
   "execution_count": null,
   "id": "e7a5e5bd-0c73-4625-810c-4ce84f843644",
   "metadata": {},
   "outputs": [],
   "source": []
  }
 ],
 "metadata": {
  "jekyll": {
   "layout": "page",
   "permalink": "/",
   "title": "AFib Detection"
  },
  "kernelspec": {
   "display_name": "Python 3",
   "language": "python",
   "name": "python3"
  },
  "language_info": {
   "codemirror_mode": {
    "name": "ipython",
    "version": 3
   },
   "file_extension": ".py",
   "mimetype": "text/x-python",
   "name": "python",
   "nbconvert_exporter": "python",
   "pygments_lexer": "ipython3",
   "version": "3.8.10"
  },
  "toc-autonumbering": false,
  "toc-showcode": false,
  "toc-showmarkdowntxt": false,
  "toc-showtags": true
 },
 "nbformat": 4,
 "nbformat_minor": 5
}
